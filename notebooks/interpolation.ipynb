{
 "cells": [
  {
   "cell_type": "code",
   "execution_count": 1,
   "id": "b3461a33-a836-483d-84b1-891b54de7c54",
   "metadata": {},
   "outputs": [],
   "source": [
    "import hydra\n",
    "import os\n",
    "import os.path as osp\n",
    "import json\n",
    "import torch\n",
    "\n",
    "from omegaconf import DictConfig, OmegaConf\n",
    "from hydra.utils import instantiate\n",
    "\n",
    "from typing import Dict, List, Optional, Union, Tuple\n",
    "from torch.utils.data import DataLoader\n",
    "from lightning import seed_everything, Trainer\n",
    "from lightning.pytorch.callbacks import ModelCheckpoint, LearningRateMonitor\n",
    "from lightning.pytorch.loggers import WandbLogger\n",
    "from lightning.pytorch.strategies.ddp import DDPStrategy\n",
    "from glob import glob\n",
    "from torch_ema import ExponentialMovingAverage\n",
    "from pathlib import Path\n",
    "from transformers import BertTokenizerFast\n",
    "from diffusion.utils import dict_to_device\n",
    "from tqdm.auto import trange\n",
    "from diffusion import Config\n",
    "import diffusion\n",
    "\n",
    "from torchmetrics import MeanSquaredError"
   ]
  },
  {
   "cell_type": "code",
   "execution_count": 4,
   "id": "c65ad9c1-5e15-4d32-9413-ea0c59f8885b",
   "metadata": {},
   "outputs": [],
   "source": [
    "os.environ['BASE_PATH'] = '..'"
   ]
  },
  {
   "cell_type": "code",
   "execution_count": 5,
   "id": "bdfb17f6-b303-4521-b4c5-8ee459c8b749",
   "metadata": {},
   "outputs": [],
   "source": [
    "def download_model_cfg(\n",
    "    exp_folder: str,\n",
    "    ckpt_name: str,\n",
    "    use_ema: bool = False,\n",
    "    count: int = 64,\n",
    "    batch_size: int = 64,\n",
    "    N: int = 200,\n",
    "    empty: bool = False\n",
    "):\n",
    "    seed_everything(1337, workers=True)\n",
    "\n",
    "    cfg = OmegaConf.load(osp.join(exp_folder, 'config.yaml'))\n",
    "    cfg.lightning_wrapper.sde_cfg.N = N\n",
    "    cfg.lightning_wrapper.sde_cfg.ode_sampling = True\n",
    "\n",
    "    yaml_cfg = OmegaConf.to_yaml(cfg)\n",
    "    print(yaml_cfg)\n",
    "    print(osp.abspath('.'))\n",
    "\n",
    "    wrapped_model = instantiate(cfg.lightning_wrapper, _recursive_=False)\n",
    "    ckpt_path = osp.join(exp_folder, ckpt_name)\n",
    "\n",
    "    print(f'ckpt_path={ckpt_path}')\n",
    "    ckpt = torch.load(\n",
    "        ckpt_path,\n",
    "        map_location='cpu'\n",
    "    )\n",
    "    wrapped_model.load_state_dict(\n",
    "        ckpt['state_dict'],\n",
    "        strict=True\n",
    "    )\n",
    "    prefix_folder = 'ema_' if use_ema else ''\n",
    "    if use_ema:\n",
    "        from torch_ema import ExponentialMovingAverage\n",
    "        ema = ExponentialMovingAverage(wrapped_model.parameters(), 0)\n",
    "        ema.load_state_dict(\n",
    "            ckpt['callbacks']['EMACallback']\n",
    "        )\n",
    "        ema.copy_to(wrapped_model.parameters())\n",
    "    wrapped_model.eval()\n",
    "\n",
    "    cfg: diffusion.Config\n",
    "    cfg.datamodule.train_dataloader_cfg.batch_size = batch_size\n",
    "    return wrapped_model, cfg"
   ]
  },
  {
   "cell_type": "code",
   "execution_count": 6,
   "id": "724da4e7-2904-49fb-a7fa-1dcbe2c72d44",
   "metadata": {},
   "outputs": [
    {
     "name": "stderr",
     "output_type": "stream",
     "text": [
      "[rank: 0] Global seed set to 1337\n"
     ]
    },
    {
     "name": "stdout",
     "output_type": "stream",
     "text": [
      "max_steps: 1000000\n",
      "seed: 0\n",
      "every_n_train_steps: 50000\n",
      "grad_clip_norm: 1.0\n",
      "project: cross_attention\n",
      "exp_name: wiki-pretrain-nam-noisy-067-bs512-t2\n",
      "pretrained_path: null\n",
      "resume_path: null\n",
      "max_epochs: 50\n",
      "every_n_epochs: 1\n",
      "precision: bf16-mixed\n",
      "lightning_wrapper:\n",
      "  optim_partial:\n",
      "    _target_: torch.optim.AdamW\n",
      "    _partial_: true\n",
      "    lr: 0.0002\n",
      "    weight_decay: 0.01\n",
      "    betas:\n",
      "    - 0.9\n",
      "    - 0.98\n",
      "    eps: 1.0e-06\n",
      "  sched_partial:\n",
      "    _target_: diffusion.LinearWarmupLR\n",
      "    _partial_: true\n",
      "    warmup_steps: 5000\n",
      "    warmup_start_lr: 1.0e-06\n",
      "  noisy_enc_normalizer_cfg:\n",
      "    _target_: diffusion.EncNormalizer\n",
      "    enc_mean_path: wiki_pret_old/encodings-bert_base-wiki-mean.pt\n",
      "    enc_std_path: wiki_pret_old/encodings-bert_base-wiki-std.pt\n",
      "  clean_enc_normalizer_cfg:\n",
      "    _target_: diffusion.EncNormalizer\n",
      "    enc_mean_path: data/t5-base-stats/mean.pth\n",
      "    enc_std_path: data/t5-base-stats/std.pth\n",
      "  _target_: diffusion.lightning_wrappers.contextual_denoising.SlavaContextualDenoising\n",
      "  ce_coef: 0.0\n",
      "  sde_cfg:\n",
      "    _target_: diffusion.dynamics.CosineSD\n",
      "    'N': 200\n",
      "    d: 10\n",
      "    prediction: x_0\n",
      "    ode_sampling: true\n",
      "datamodule:\n",
      "  _target_: diffusion.dataset.SimpleDataModule\n",
      "  _recursive_: false\n",
      "  train_dataset_cfg:\n",
      "    _target_: diffusion.dataset.wiki_dataset.WikiDataset\n",
      "    max_length: 64\n",
      "    train: true\n",
      "  valid_dataset_cfg:\n",
      "    _target_: diffusion.dataset.wiki_dataset.WikiDataset\n",
      "    max_length: 64\n",
      "    train: false\n",
      "  train_dataloader_cfg:\n",
      "    _target_: torch.utils.data.DataLoader\n",
      "    batch_size: 512\n",
      "    num_workers: 16\n",
      "    drop_last: true\n",
      "    shuffle: true\n",
      "  valid_dataloader_cfg:\n",
      "    _target_: torch.utils.data.DataLoader\n",
      "    batch_size: ${datamodule.train_dataloader_cfg.batch_size}\n",
      "    num_workers: ${datamodule.train_dataloader_cfg.num_workers}\n",
      "    drop_last: false\n",
      "    shuffle: false\n",
      "\n",
      "/home/tbadmaev/cls_glue_diff/light_diffusion/notebooks\n"
     ]
    },
    {
     "name": "stderr",
     "output_type": "stream",
     "text": [
      "If you want to use `BertLMHeadModel` as a standalone, add `is_decoder=True.`\n",
      "Some weights of the model checkpoint at bert-base-uncased were not used when initializing BertLMHeadModel: ['cls.seq_relationship.weight', 'cls.seq_relationship.bias']\n",
      "- This IS expected if you are initializing BertLMHeadModel from the checkpoint of a model trained on another task or with another architecture (e.g. initializing a BertForSequenceClassification model from a BertForPreTraining model).\n",
      "- This IS NOT expected if you are initializing BertLMHeadModel from the checkpoint of a model that you expect to be exactly identical (initializing a BertForSequenceClassification model from a BertForSequenceClassification model).\n",
      "Some weights of BertLMHeadModel were not initialized from the model checkpoint at bert-base-uncased and are newly initialized: ['enc_normalizer.enc_std', 'enc_normalizer.enc_mean']\n",
      "You should probably TRAIN this model on a down-stream task to be able to use it for predictions and inference.\n",
      "Some weights of the model checkpoint at t5-base were not used when initializing T5EncoderModel: ['decoder.block.3.layer.0.layer_norm.weight', 'decoder.block.2.layer.0.SelfAttention.q.weight', 'decoder.block.5.layer.1.EncDecAttention.o.weight', 'decoder.block.8.layer.0.SelfAttention.q.weight', 'decoder.block.9.layer.2.layer_norm.weight', 'decoder.block.7.layer.1.EncDecAttention.o.weight', 'decoder.block.11.layer.0.SelfAttention.v.weight', 'decoder.block.11.layer.0.SelfAttention.q.weight', 'decoder.block.7.layer.0.layer_norm.weight', 'decoder.block.3.layer.1.layer_norm.weight', 'decoder.block.5.layer.0.SelfAttention.v.weight', 'decoder.block.0.layer.0.SelfAttention.v.weight', 'decoder.block.11.layer.0.SelfAttention.o.weight', 'decoder.block.1.layer.2.DenseReluDense.wo.weight', 'decoder.block.10.layer.0.layer_norm.weight', 'decoder.block.0.layer.1.EncDecAttention.k.weight', 'decoder.block.11.layer.2.DenseReluDense.wi.weight', 'decoder.block.7.layer.0.SelfAttention.v.weight', 'decoder.block.1.layer.1.EncDecAttention.v.weight', 'decoder.block.10.layer.0.SelfAttention.k.weight', 'decoder.block.3.layer.1.EncDecAttention.q.weight', 'decoder.block.7.layer.0.SelfAttention.k.weight', 'decoder.block.3.layer.1.EncDecAttention.k.weight', 'decoder.block.5.layer.1.EncDecAttention.q.weight', 'decoder.block.6.layer.1.EncDecAttention.q.weight', 'decoder.block.8.layer.2.layer_norm.weight', 'decoder.block.6.layer.2.DenseReluDense.wo.weight', 'decoder.block.7.layer.0.SelfAttention.o.weight', 'decoder.block.1.layer.0.SelfAttention.k.weight', 'decoder.block.5.layer.2.layer_norm.weight', 'decoder.block.7.layer.1.EncDecAttention.q.weight', 'decoder.block.6.layer.0.layer_norm.weight', 'decoder.block.11.layer.1.layer_norm.weight', 'decoder.block.3.layer.0.SelfAttention.k.weight', 'decoder.block.8.layer.1.layer_norm.weight', 'decoder.block.11.layer.2.DenseReluDense.wo.weight', 'decoder.block.11.layer.2.layer_norm.weight', 'decoder.block.10.layer.1.EncDecAttention.v.weight', 'decoder.block.0.layer.2.layer_norm.weight', 'decoder.block.2.layer.1.EncDecAttention.k.weight', 'decoder.block.0.layer.1.EncDecAttention.q.weight', 'decoder.block.4.layer.2.DenseReluDense.wi.weight', 'decoder.final_layer_norm.weight', 'decoder.block.0.layer.2.DenseReluDense.wo.weight', 'decoder.block.8.layer.0.SelfAttention.v.weight', 'decoder.block.8.layer.2.DenseReluDense.wi.weight', 'decoder.block.9.layer.1.EncDecAttention.v.weight', 'decoder.block.5.layer.1.EncDecAttention.k.weight', 'decoder.block.6.layer.1.EncDecAttention.o.weight', 'decoder.block.3.layer.0.SelfAttention.o.weight', 'decoder.block.10.layer.2.DenseReluDense.wo.weight', 'decoder.block.4.layer.1.EncDecAttention.q.weight', 'decoder.block.1.layer.1.EncDecAttention.k.weight', 'decoder.block.0.layer.1.EncDecAttention.o.weight', 'decoder.block.6.layer.2.layer_norm.weight', 'decoder.block.9.layer.2.DenseReluDense.wo.weight', 'decoder.block.4.layer.0.SelfAttention.q.weight', 'decoder.block.7.layer.2.layer_norm.weight', 'decoder.block.9.layer.1.EncDecAttention.q.weight', 'decoder.block.10.layer.1.EncDecAttention.k.weight', 'decoder.block.10.layer.2.DenseReluDense.wi.weight', 'decoder.block.11.layer.1.EncDecAttention.v.weight', 'decoder.block.1.layer.0.SelfAttention.v.weight', 'decoder.block.2.layer.0.SelfAttention.v.weight', 'decoder.block.3.layer.1.EncDecAttention.o.weight', 'decoder.block.6.layer.0.SelfAttention.v.weight', 'decoder.block.7.layer.2.DenseReluDense.wi.weight', 'decoder.block.3.layer.1.EncDecAttention.v.weight', 'decoder.block.2.layer.1.layer_norm.weight', 'decoder.block.2.layer.2.DenseReluDense.wo.weight', 'decoder.block.5.layer.0.SelfAttention.k.weight', 'decoder.block.9.layer.2.DenseReluDense.wi.weight', 'decoder.block.9.layer.0.SelfAttention.o.weight', 'decoder.block.5.layer.2.DenseReluDense.wi.weight', 'decoder.block.11.layer.1.EncDecAttention.k.weight', 'decoder.block.5.layer.1.EncDecAttention.v.weight', 'decoder.block.11.layer.0.SelfAttention.k.weight', 'decoder.block.10.layer.0.SelfAttention.o.weight', 'decoder.block.5.layer.1.layer_norm.weight', 'decoder.block.3.layer.2.DenseReluDense.wi.weight', 'decoder.block.4.layer.2.DenseReluDense.wo.weight', 'decoder.block.4.layer.0.layer_norm.weight', 'decoder.block.8.layer.1.EncDecAttention.o.weight', 'decoder.block.6.layer.0.SelfAttention.o.weight', 'decoder.block.8.layer.0.SelfAttention.k.weight', 'decoder.block.6.layer.1.EncDecAttention.k.weight', 'decoder.block.2.layer.0.SelfAttention.k.weight', 'decoder.block.10.layer.0.SelfAttention.q.weight', 'decoder.block.9.layer.1.EncDecAttention.o.weight', 'decoder.block.10.layer.2.layer_norm.weight', 'decoder.block.9.layer.1.EncDecAttention.k.weight', 'decoder.block.6.layer.1.layer_norm.weight', 'decoder.block.1.layer.0.layer_norm.weight', 'decoder.block.7.layer.2.DenseReluDense.wo.weight', 'decoder.block.10.layer.1.layer_norm.weight', 'decoder.block.8.layer.1.EncDecAttention.k.weight', 'decoder.block.0.layer.0.SelfAttention.o.weight', 'decoder.block.9.layer.1.layer_norm.weight', 'decoder.block.11.layer.1.EncDecAttention.o.weight', 'decoder.block.0.layer.1.EncDecAttention.v.weight', 'decoder.block.2.layer.1.EncDecAttention.o.weight', 'decoder.block.4.layer.0.SelfAttention.k.weight', 'decoder.block.6.layer.1.EncDecAttention.v.weight', 'decoder.block.2.layer.0.SelfAttention.o.weight', 'decoder.block.2.layer.1.EncDecAttention.q.weight', 'decoder.block.8.layer.0.layer_norm.weight', 'decoder.block.5.layer.0.layer_norm.weight', 'decoder.block.8.layer.0.SelfAttention.o.weight', 'decoder.block.6.layer.0.SelfAttention.k.weight', 'decoder.block.4.layer.1.EncDecAttention.k.weight', 'decoder.block.5.layer.0.SelfAttention.q.weight', 'decoder.block.10.layer.1.EncDecAttention.o.weight', 'decoder.block.7.layer.1.EncDecAttention.v.weight', 'decoder.block.4.layer.1.EncDecAttention.v.weight', 'decoder.block.7.layer.0.SelfAttention.q.weight', 'decoder.block.2.layer.2.layer_norm.weight', 'decoder.block.0.layer.1.layer_norm.weight', 'decoder.block.1.layer.1.layer_norm.weight', 'decoder.block.4.layer.2.layer_norm.weight', 'decoder.block.4.layer.0.SelfAttention.o.weight', 'decoder.block.9.layer.0.layer_norm.weight', 'decoder.block.1.layer.0.SelfAttention.q.weight', 'decoder.block.2.layer.1.EncDecAttention.v.weight', 'decoder.block.4.layer.1.layer_norm.weight', 'decoder.block.1.layer.0.SelfAttention.o.weight', 'decoder.block.9.layer.0.SelfAttention.v.weight', 'decoder.block.0.layer.2.DenseReluDense.wi.weight', 'decoder.block.1.layer.1.EncDecAttention.q.weight', 'decoder.block.8.layer.2.DenseReluDense.wo.weight', 'decoder.block.9.layer.0.SelfAttention.q.weight', 'decoder.block.0.layer.0.SelfAttention.relative_attention_bias.weight', 'decoder.block.8.layer.1.EncDecAttention.q.weight', 'decoder.block.10.layer.0.SelfAttention.v.weight', 'decoder.block.11.layer.0.layer_norm.weight', 'decoder.block.1.layer.2.layer_norm.weight', 'decoder.block.5.layer.0.SelfAttention.o.weight', 'decoder.block.0.layer.0.SelfAttention.k.weight', 'decoder.block.3.layer.2.layer_norm.weight', 'decoder.block.8.layer.1.EncDecAttention.v.weight', 'decoder.block.6.layer.0.SelfAttention.q.weight', 'decoder.block.2.layer.2.DenseReluDense.wi.weight', 'decoder.block.6.layer.2.DenseReluDense.wi.weight', 'decoder.block.4.layer.0.SelfAttention.v.weight', 'decoder.block.4.layer.1.EncDecAttention.o.weight', 'decoder.block.1.layer.1.EncDecAttention.o.weight', 'decoder.block.2.layer.0.layer_norm.weight', 'decoder.block.0.layer.1.EncDecAttention.relative_attention_bias.weight', 'decoder.block.3.layer.0.SelfAttention.q.weight', 'decoder.block.1.layer.2.DenseReluDense.wi.weight', 'decoder.block.5.layer.2.DenseReluDense.wo.weight', 'decoder.block.0.layer.0.SelfAttention.q.weight', 'decoder.block.9.layer.0.SelfAttention.k.weight', 'decoder.block.11.layer.1.EncDecAttention.q.weight', 'decoder.block.3.layer.0.SelfAttention.v.weight', 'decoder.block.0.layer.0.layer_norm.weight', 'decoder.block.3.layer.2.DenseReluDense.wo.weight', 'decoder.block.10.layer.1.EncDecAttention.q.weight', 'decoder.block.7.layer.1.layer_norm.weight', 'decoder.block.7.layer.1.EncDecAttention.k.weight']\n",
      "- This IS expected if you are initializing T5EncoderModel from the checkpoint of a model trained on another task or with another architecture (e.g. initializing a BertForSequenceClassification model from a BertForPreTraining model).\n",
      "- This IS NOT expected if you are initializing T5EncoderModel from the checkpoint of a model that you expect to be exactly identical (initializing a BertForSequenceClassification model from a BertForSequenceClassification model).\n",
      "Some weights of T5EncoderModel were not initialized from the model checkpoint at t5-base and are newly initialized: ['enc_normalizer.enc_mean', 'enc_normalizer.enc_std']\n",
      "You should probably TRAIN this model on a down-stream task to be able to use it for predictions and inference.\n"
     ]
    },
    {
     "name": "stdout",
     "output_type": "stream",
     "text": [
      "RESTORED SLAVYAN\n",
      "ckpt_path=../experiments/wiki-pretrain-nam-noisy-067-bs512-t2/step_500000.ckpt\n"
     ]
    }
   ],
   "source": [
    "wrapped_model, cfg = download_model_cfg(\n",
    "    '../experiments/wiki-pretrain-nam-noisy-067-bs512-t2',\n",
    "    'step_500000.ckpt',\n",
    "    True,\n",
    "    empty=True\n",
    ")"
   ]
  },
  {
   "cell_type": "code",
   "execution_count": 10,
   "id": "77f4562f-4e4a-4b63-b435-26914f02f4ac",
   "metadata": {},
   "outputs": [
    {
     "name": "stdout",
     "output_type": "stream",
     "text": [
      "RESTORED SLAVYAN\n"
     ]
    },
    {
     "name": "stderr",
     "output_type": "stream",
     "text": [
      "Found cached dataset parquet (/home/tbadmaev/.cache/huggingface/datasets/Graphcore___parquet/Graphcore--wikipedia-bert-128-d489528ddee484b2/0.0.0/2a3b91fbd88a2c90d1dbbb32b460cf621d31bd5b05b934492fdef7d8d6f236ec)\n",
      "Loading cached split indices for dataset at /home/tbadmaev/.cache/huggingface/datasets/Graphcore___parquet/Graphcore--wikipedia-bert-128-d489528ddee484b2/0.0.0/2a3b91fbd88a2c90d1dbbb32b460cf621d31bd5b05b934492fdef7d8d6f236ec/cache-0bcf1810a390dc82.arrow and /home/tbadmaev/.cache/huggingface/datasets/Graphcore___parquet/Graphcore--wikipedia-bert-128-d489528ddee484b2/0.0.0/2a3b91fbd88a2c90d1dbbb32b460cf621d31bd5b05b934492fdef7d8d6f236ec/cache-4395827f851c38ac.arrow\n",
      "/home/tbadmaev/new_conda/lib/python3.10/site-packages/transformers/models/t5/tokenization_t5_fast.py:155: FutureWarning: This tokenizer was incorrectly instantiated with a model max length of 512 which will be corrected in Transformers v5.\n",
      "For now, this behavior is kept to avoid breaking backwards compatibility when padding/encoding with `truncation is True`.\n",
      "- Be aware that you SHOULD NOT rely on t5-base automatically truncating your input to 512 when padding/encoding.\n",
      "- If you want to encode/pad to sequences longer than 512 you can either instantiate this tokenizer with `model_max_length` or pass `max_length` when encoding/padding.\n",
      "- To avoid this warning, please instantiate this tokenizer with `model_max_length` set to your preferred value.\n",
      "  warnings.warn(\n",
      "Found cached dataset parquet (/home/tbadmaev/.cache/huggingface/datasets/Graphcore___parquet/Graphcore--wikipedia-bert-128-d489528ddee484b2/0.0.0/2a3b91fbd88a2c90d1dbbb32b460cf621d31bd5b05b934492fdef7d8d6f236ec)\n",
      "Loading cached split indices for dataset at /home/tbadmaev/.cache/huggingface/datasets/Graphcore___parquet/Graphcore--wikipedia-bert-128-d489528ddee484b2/0.0.0/2a3b91fbd88a2c90d1dbbb32b460cf621d31bd5b05b934492fdef7d8d6f236ec/cache-0bcf1810a390dc82.arrow and /home/tbadmaev/.cache/huggingface/datasets/Graphcore___parquet/Graphcore--wikipedia-bert-128-d489528ddee484b2/0.0.0/2a3b91fbd88a2c90d1dbbb32b460cf621d31bd5b05b934492fdef7d8d6f236ec/cache-4395827f851c38ac.arrow\n"
     ]
    }
   ],
   "source": [
    "datamodule: diffusion.SimpleDataModule = instantiate(cfg.datamodule, _recursive_=False)\n",
    "wrapped_model: diffusion.lightning_wrappers.contextual_denoising.ContextualDenoising\n",
    "wrapped_model.noisy_part_encoder.restore_decoder()\n",
    "\n",
    "prefix_folder = 'interpol_'\n",
    "exp_folder = 'wiki-pretrain-nam-noisy-067-bs512-t2'\n",
    "save_folder = osp.join('.', prefix_folder + osp.basename(exp_folder))\n",
    "if not osp.exists(save_folder):\n",
    "    os.makedirs(save_folder)\n",
    "datamodule.setup()\n",
    "if True or empty:\n",
    "    datamodule.valid_dataset.setup_empty_cond(True)\n"
   ]
  },
  {
   "cell_type": "code",
   "execution_count": 11,
   "id": "0d08568e-4f9d-44f4-915e-f2d8dcf2f7ac",
   "metadata": {},
   "outputs": [
    {
     "name": "stderr",
     "output_type": "stream",
     "text": [
      "/home/tbadmaev/new_conda/lib/python3.10/site-packages/torch/utils/data/dataloader.py:561: UserWarning: This DataLoader will create 16 worker processes in total. Our suggested max number of worker in current system is 10, which is smaller than what this DataLoader is going to create. Please be aware that excessive worker creation might get DataLoader running slow or even freeze, lower the worker number to avoid potential slowness/freeze if necessary.\n",
      "  warnings.warn(_create_warning_msg(\n"
     ]
    },
    {
     "data": {
      "text/plain": [
       "SlavaContextualDenoising(\n",
       "  (noisy_part_encoder): BertLMHeadModel(\n",
       "    (bert): BertModel(\n",
       "      (embeddings): BertEmbeddings(\n",
       "        (word_embeddings): Embedding(30522, 768, padding_idx=0)\n",
       "        (position_embeddings): Embedding(512, 768)\n",
       "        (token_type_embeddings): Embedding(2, 768)\n",
       "        (LayerNorm): LayerNorm((768,), eps=1e-12, elementwise_affine=True)\n",
       "        (dropout): Dropout(p=0.1, inplace=False)\n",
       "      )\n",
       "      (encoder): BertEncoder(\n",
       "        (layer): ModuleList(\n",
       "          (0-11): 12 x BertLayer(\n",
       "            (attention): BertAttention(\n",
       "              (self): BertSelfAttention(\n",
       "                (query): Linear(in_features=768, out_features=768, bias=True)\n",
       "                (key): Linear(in_features=768, out_features=768, bias=True)\n",
       "                (value): Linear(in_features=768, out_features=768, bias=True)\n",
       "                (dropout): Dropout(p=0.1, inplace=False)\n",
       "              )\n",
       "              (output): BertSelfOutput(\n",
       "                (dense): Linear(in_features=768, out_features=768, bias=True)\n",
       "                (LayerNorm): LayerNorm((768,), eps=1e-12, elementwise_affine=True)\n",
       "                (dropout): Dropout(p=0.1, inplace=False)\n",
       "              )\n",
       "            )\n",
       "            (intermediate): BertIntermediate(\n",
       "              (dense): Linear(in_features=768, out_features=3072, bias=True)\n",
       "              (intermediate_act_fn): GELUActivation()\n",
       "            )\n",
       "            (output): BertOutput(\n",
       "              (dense): Linear(in_features=3072, out_features=768, bias=True)\n",
       "              (LayerNorm): LayerNorm((768,), eps=1e-12, elementwise_affine=True)\n",
       "              (dropout): Dropout(p=0.1, inplace=False)\n",
       "            )\n",
       "          )\n",
       "        )\n",
       "      )\n",
       "    )\n",
       "    (cls): BertOnlyMLMHead(\n",
       "      (predictions): BertLMPredictionHead(\n",
       "        (transform): BertPredictionHeadTransform(\n",
       "          (dense): Linear(in_features=768, out_features=768, bias=True)\n",
       "          (transform_act_fn): GELUActivation()\n",
       "          (LayerNorm): LayerNorm((768,), eps=1e-12, elementwise_affine=True)\n",
       "        )\n",
       "        (decoder): Linear(in_features=768, out_features=30522, bias=True)\n",
       "      )\n",
       "    )\n",
       "    (enc_normalizer): EncNormalizer()\n",
       "  )\n",
       "  (clean_part_encoder): T5EncoderModel(\n",
       "    (shared): Embedding(32128, 768)\n",
       "    (encoder): T5Stack(\n",
       "      (embed_tokens): Embedding(32128, 768)\n",
       "      (block): ModuleList(\n",
       "        (0): T5Block(\n",
       "          (layer): ModuleList(\n",
       "            (0): T5LayerSelfAttention(\n",
       "              (SelfAttention): T5Attention(\n",
       "                (q): Linear(in_features=768, out_features=768, bias=False)\n",
       "                (k): Linear(in_features=768, out_features=768, bias=False)\n",
       "                (v): Linear(in_features=768, out_features=768, bias=False)\n",
       "                (o): Linear(in_features=768, out_features=768, bias=False)\n",
       "                (relative_attention_bias): Embedding(32, 12)\n",
       "              )\n",
       "              (layer_norm): T5LayerNorm()\n",
       "              (dropout): Dropout(p=0.1, inplace=False)\n",
       "            )\n",
       "            (1): T5LayerFF(\n",
       "              (DenseReluDense): T5DenseActDense(\n",
       "                (wi): Linear(in_features=768, out_features=3072, bias=False)\n",
       "                (wo): Linear(in_features=3072, out_features=768, bias=False)\n",
       "                (dropout): Dropout(p=0.1, inplace=False)\n",
       "                (act): ReLU()\n",
       "              )\n",
       "              (layer_norm): T5LayerNorm()\n",
       "              (dropout): Dropout(p=0.1, inplace=False)\n",
       "            )\n",
       "          )\n",
       "        )\n",
       "        (1-11): 11 x T5Block(\n",
       "          (layer): ModuleList(\n",
       "            (0): T5LayerSelfAttention(\n",
       "              (SelfAttention): T5Attention(\n",
       "                (q): Linear(in_features=768, out_features=768, bias=False)\n",
       "                (k): Linear(in_features=768, out_features=768, bias=False)\n",
       "                (v): Linear(in_features=768, out_features=768, bias=False)\n",
       "                (o): Linear(in_features=768, out_features=768, bias=False)\n",
       "              )\n",
       "              (layer_norm): T5LayerNorm()\n",
       "              (dropout): Dropout(p=0.1, inplace=False)\n",
       "            )\n",
       "            (1): T5LayerFF(\n",
       "              (DenseReluDense): T5DenseActDense(\n",
       "                (wi): Linear(in_features=768, out_features=3072, bias=False)\n",
       "                (wo): Linear(in_features=3072, out_features=768, bias=False)\n",
       "                (dropout): Dropout(p=0.1, inplace=False)\n",
       "                (act): ReLU()\n",
       "              )\n",
       "              (layer_norm): T5LayerNorm()\n",
       "              (dropout): Dropout(p=0.1, inplace=False)\n",
       "            )\n",
       "          )\n",
       "        )\n",
       "      )\n",
       "      (final_layer_norm): T5LayerNorm()\n",
       "      (dropout): Dropout(p=0.1, inplace=False)\n",
       "    )\n",
       "    (enc_normalizer): EncNormalizer()\n",
       "  )\n",
       "  (score_estimator): SlavaEstimator(\n",
       "    (time_emb): Sequential(\n",
       "      (0): Linear(in_features=768, out_features=1536, bias=True)\n",
       "      (1): SiLU()\n",
       "      (2): Linear(in_features=1536, out_features=768, bias=True)\n",
       "    )\n",
       "    (encoder): TransformerEncoder(\n",
       "      (input_blocks): ModuleList(\n",
       "        (0-5): 6 x BertBlock(\n",
       "          (attention): BertAttention(\n",
       "            (self): BertSelfAttention(\n",
       "              (query): Linear(in_features=768, out_features=768, bias=True)\n",
       "              (key): Linear(in_features=768, out_features=768, bias=True)\n",
       "              (value): Linear(in_features=768, out_features=768, bias=True)\n",
       "              (dropout): Dropout(p=0.1, inplace=False)\n",
       "            )\n",
       "            (output): BertSelfOutput(\n",
       "              (dense): Linear(in_features=768, out_features=768, bias=True)\n",
       "              (LayerNorm): LayerNorm((768,), eps=1e-12, elementwise_affine=True)\n",
       "              (dropout): Dropout(p=0.1, inplace=False)\n",
       "            )\n",
       "          )\n",
       "          (crossattention): BertAttention(\n",
       "            (self): BertSelfAttention(\n",
       "              (query): Linear(in_features=768, out_features=768, bias=True)\n",
       "              (key): Linear(in_features=768, out_features=768, bias=True)\n",
       "              (value): Linear(in_features=768, out_features=768, bias=True)\n",
       "              (dropout): Dropout(p=0.1, inplace=False)\n",
       "            )\n",
       "            (output): BertSelfOutput(\n",
       "              (dense): Linear(in_features=768, out_features=768, bias=True)\n",
       "              (LayerNorm): LayerNorm((768,), eps=1e-12, elementwise_affine=True)\n",
       "              (dropout): Dropout(p=0.1, inplace=False)\n",
       "            )\n",
       "          )\n",
       "          (intermediate): BertIntermediate(\n",
       "            (dense): Linear(in_features=768, out_features=3072, bias=True)\n",
       "            (intermediate_act_fn): GELUActivation()\n",
       "          )\n",
       "          (output): BertOutput(\n",
       "            (dense): Linear(in_features=3072, out_features=768, bias=True)\n",
       "            (LayerNorm): LayerNorm((768,), eps=1e-12, elementwise_affine=True)\n",
       "            (dropout): Dropout(p=0.1, inplace=False)\n",
       "          )\n",
       "        )\n",
       "      )\n",
       "      (output_blocks): ModuleList(\n",
       "        (0-5): 6 x BertBlock(\n",
       "          (attention): BertAttention(\n",
       "            (self): BertSelfAttention(\n",
       "              (query): Linear(in_features=768, out_features=768, bias=True)\n",
       "              (key): Linear(in_features=768, out_features=768, bias=True)\n",
       "              (value): Linear(in_features=768, out_features=768, bias=True)\n",
       "              (dropout): Dropout(p=0.1, inplace=False)\n",
       "            )\n",
       "            (output): BertSelfOutput(\n",
       "              (dense): Linear(in_features=768, out_features=768, bias=True)\n",
       "              (LayerNorm): LayerNorm((768,), eps=1e-12, elementwise_affine=True)\n",
       "              (dropout): Dropout(p=0.1, inplace=False)\n",
       "            )\n",
       "          )\n",
       "          (crossattention): BertAttention(\n",
       "            (self): BertSelfAttention(\n",
       "              (query): Linear(in_features=768, out_features=768, bias=True)\n",
       "              (key): Linear(in_features=768, out_features=768, bias=True)\n",
       "              (value): Linear(in_features=768, out_features=768, bias=True)\n",
       "              (dropout): Dropout(p=0.1, inplace=False)\n",
       "            )\n",
       "            (output): BertSelfOutput(\n",
       "              (dense): Linear(in_features=768, out_features=768, bias=True)\n",
       "              (LayerNorm): LayerNorm((768,), eps=1e-12, elementwise_affine=True)\n",
       "              (dropout): Dropout(p=0.1, inplace=False)\n",
       "            )\n",
       "          )\n",
       "          (intermediate): BertIntermediate(\n",
       "            (dense): Linear(in_features=768, out_features=3072, bias=True)\n",
       "            (intermediate_act_fn): GELUActivation()\n",
       "          )\n",
       "          (output): BertOutput(\n",
       "            (dense): Linear(in_features=3072, out_features=768, bias=True)\n",
       "            (LayerNorm): LayerNorm((768,), eps=1e-12, elementwise_affine=True)\n",
       "            (dropout): Dropout(p=0.1, inplace=False)\n",
       "          )\n",
       "        )\n",
       "      )\n",
       "      (time_layers): ModuleList(\n",
       "        (0-11): 12 x Linear(in_features=768, out_features=768, bias=True)\n",
       "      )\n",
       "    )\n",
       "    (position_embeddings): Embedding(512, 768)\n",
       "  )\n",
       ")"
      ]
     },
     "execution_count": 11,
     "metadata": {},
     "output_type": "execute_result"
    }
   ],
   "source": [
    "loader: DataLoader = datamodule.val_dataloader()[0]\n",
    "device = 'cuda:0'\n",
    "iter_loader = iter(loader)\n",
    "wrapped_model.to(device)"
   ]
  },
  {
   "cell_type": "code",
   "execution_count": 12,
   "id": "b6185e56-d3a0-474a-a586-3ecf1647040c",
   "metadata": {},
   "outputs": [],
   "source": [
    "batch = next(iter_loader)\n",
    "batch = dict_to_device(batch, device)"
   ]
  },
  {
   "cell_type": "code",
   "execution_count": 13,
   "id": "3916ffec-2782-4be4-9087-8dd758ece7fb",
   "metadata": {},
   "outputs": [
    {
     "data": {
      "text/plain": [
       "dict_keys(['clean_input_ids', 'clean_attention_mask', 'noisy_input_ids', 'noisy_token_type_ids', 'noisy_attention_mask'])"
      ]
     },
     "execution_count": 13,
     "metadata": {},
     "output_type": "execute_result"
    }
   ],
   "source": [
    "batch.keys()"
   ]
  },
  {
   "cell_type": "code",
   "execution_count": 16,
   "id": "6cf37a32-243c-4859-89be-c02faf88a1de",
   "metadata": {},
   "outputs": [
    {
     "data": {
      "text/plain": [
       "tensor([[1, 0, 0,  ..., 0, 0, 0],\n",
       "        [1, 0, 0,  ..., 0, 0, 0],\n",
       "        [1, 0, 0,  ..., 0, 0, 0],\n",
       "        ...,\n",
       "        [1, 0, 0,  ..., 0, 0, 0],\n",
       "        [1, 0, 0,  ..., 0, 0, 0],\n",
       "        [1, 0, 0,  ..., 0, 0, 0]], device='cuda:0')"
      ]
     },
     "execution_count": 16,
     "metadata": {},
     "output_type": "execute_result"
    }
   ],
   "source": [
    "batch['clean_attention_mask']"
   ]
  },
  {
   "cell_type": "code",
   "execution_count": 17,
   "id": "cb136bc1-41e3-449f-a373-e49f67959b5c",
   "metadata": {},
   "outputs": [
    {
     "data": {
      "application/vnd.jupyter.widget-view+json": {
       "model_id": "3a9869fcb0c94b03aba3e7e4c74aa136",
       "version_major": 2,
       "version_minor": 0
      },
      "text/plain": [
       "  0%|          | 0/200 [00:00<?, ?it/s]"
      ]
     },
     "metadata": {},
     "output_type": "display_data"
    }
   ],
   "source": [
    "latents, true_normed_x0 = wrapped_model.ode_forward_dynamic(batch)"
   ]
  },
  {
   "cell_type": "code",
   "execution_count": 18,
   "id": "366efb1d-393b-47ab-bf98-861a0d8871b7",
   "metadata": {},
   "outputs": [
    {
     "data": {
      "application/vnd.jupyter.widget-view+json": {
       "model_id": "95e6c467b1c84088a35c3ef2b9980daf",
       "version_major": 2,
       "version_minor": 0
      },
      "text/plain": [
       "  0%|          | 0/200 [00:00<?, ?it/s]"
      ]
     },
     "metadata": {},
     "output_type": "display_data"
    }
   ],
   "source": [
    "generated_ids, gen_normed_x0 = wrapped_model.generate_text(batch, init_x=latents)"
   ]
  },
  {
   "cell_type": "code",
   "execution_count": 20,
   "id": "4a9c8e81-88e9-4948-ac85-035c863d3046",
   "metadata": {},
   "outputs": [
    {
     "data": {
      "text/plain": [
       "tensor(0.0944, device='cuda:0')"
      ]
     },
     "execution_count": 20,
     "metadata": {},
     "output_type": "execute_result"
    }
   ],
   "source": [
    "torch.mean((true_normed_x0 - gen_normed_x0)**2)"
   ]
  },
  {
   "cell_type": "code",
   "execution_count": 21,
   "id": "a8fcbfb2-d836-45a8-af57-1710f85b1198",
   "metadata": {},
   "outputs": [],
   "source": [
    "tokenizer_decoder = loader.dataset.noisy_tokenizer"
   ]
  },
  {
   "cell_type": "code",
   "execution_count": 22,
   "id": "df74e2c5-3c75-4d9f-b1ec-3c8a08fcc5a6",
   "metadata": {},
   "outputs": [
    {
     "data": {
      "text/plain": [
       "BertTokenizerFast(name_or_path='bert-base-uncased', vocab_size=30522, model_max_length=512, is_fast=True, padding_side='right', truncation_side='right', special_tokens={'unk_token': '[UNK]', 'sep_token': '[SEP]', 'pad_token': '[PAD]', 'cls_token': '[CLS]', 'mask_token': '[MASK]'}, clean_up_tokenization_spaces=True)"
      ]
     },
     "execution_count": 22,
     "metadata": {},
     "output_type": "execute_result"
    }
   ],
   "source": [
    "tokenizer_decoder"
   ]
  },
  {
   "cell_type": "code",
   "execution_count": 25,
   "id": "ccd46a35-89e1-4446-a4a5-0cc1fb711ca9",
   "metadata": {},
   "outputs": [],
   "source": [
    "noisy_input_ids = batch['noisy_input_ids'].cpu()"
   ]
  },
  {
   "cell_type": "code",
   "execution_count": 26,
   "id": "9104092c-da98-4a60-81d6-77291de81e01",
   "metadata": {},
   "outputs": [
    {
     "data": {
      "text/plain": [
       "['the vibe was also made in tandem with a toyota model, the toyota matrix, at the nummi plant. the prizm along with its geo siblings suffered severe sales loss when the brand denomination changed from geo to chevrolet in 1998. the geo models outsold the rebadged chevrolets three to one',\n",
       " '0 may also refer to : one of king\\'s greatest influences was the musician tom taylor, who gave king guitar lessons when king was 12. king\\'s bass playing style is largely based on continuous 16th notes ( aka semiquavers ), sometimes described as \" machine - gun \" style.',\n",
       " 'cornelius bolton ( – 16 september 1779 ) was an irish landowner and politician. biography. he was made a freeman of the city of waterford in 1737 and was mayor of waterford from 1743 to 1744 and in 1761. he represented the city in parliament from 1768 to 1776. he was a magistrate for county waterford from 1743',\n",
       " \"in an effort to create a more competitive field in organizers announced a series of changes to the championship. the most significant was that from the teams have had to run on pirelli control or'spec'tyres. the standard of dunlop and michelin that most of the teams had been using. dunlop looked to take\",\n",
       " 'the ships that attempted to evade it but also to discourage others. the blockade runners may have been numerous, but they were built for speed rather than the ability to carry cargo. the more conventional cargo vessels, and their spacious holds, went elsewhere. as a result, southern exports of cotton fell by 95 % from',\n",
       " 'early life. in 1946 leading english psychologist charles samuel myers died at his home in winsford glebe.',\n",
       " \"in both the manga and novel mayumi's corpse is the first object encountered by shuya outside of the school. in the film mayumi receives an arrow through her neck and dies shortly after she asks shuya about the arrow.\",\n",
       " 'references. & lt ; br & gt ;',\n",
       " \"scientist to one of s. h. i. e. l. d.'s most senior agents, also clocking significant experience as a field agent. she is distinguished from her colleagues by taking very determined and sometimes coldly rational decisions in the pursuit of what she believes is right. fictional character biography. i\",\n",
       " \"trio, formed in 2002 in saitama prefecture. the band's style resembles post - hardcore and progressive rock, math - rock, often incorporating rapid changes of tempo and mood framed in complex guitar melodies and technical drumming. they utilize both male and female vocals ranging from soft singing to loud wails and screams.\",\n",
       " 'served by milngavie railway station on the north clyde line of the spt rail network, which links it to central glasgow. in 2018 the scottish government published statistics for the town showing that the population increased to 13, 537 in 6, 062 households. the town is also a popular retirement location,',\n",
       " 'under the pressure of their questioning, phelan eventually asserts to nicola that he thinks she is his daughter — explaining that he previously had an affair with her mother, annabel, for over a year. russ was taught to play guitar by his father, and over the years gradually learned how to play several instruments',\n",
       " 'awards ( selected ). 2014 - 2015 national endowment for the humanities faculty award & lt ; br & gt ; 2010 - 2011 american council of learned societies fellowship & lt ; br & gt ; 2010 - 2011 dibner fellowship in the history of science, huntington library & lt ; br & gt ; the term \"',\n",
       " \"rose bay whilst 24. 8 % have never been married. 38 % of families are couples with children, 47. 6 % are couples without children, and 13. 4 % are single - parent families. of people aged 15 or older in rose bay, the most common education level achieved is a bachelor's\",\n",
       " \"opposition ruckmen just couldn't get around him. i couldn't believe the size of his legs ; they were enormous. he could manoeuvre around blokes like polly farmer, even though he stood only six feet two. that's shorter than chris judd. he was just a\",\n",
       " 'he was taken to chitwan by ambulance. the squadron flew a4d - 2n / a - 4c and a4d - 2 aircraft.',\n",
       " 'election results. ^ change is from redistributed results. she wrote for the maryland center for public broadcasting television show \" consumer survival kit \".',\n",
       " \"forty - one players made at least one appearance in first - team competition, of whom twelve were loan signings and a further three signed on short - term contracts ; there were twenty different goalscorers. porter's football career was interrupted by his service in the australian army during world war ii.\",\n",
       " 'comes on, indicating that a business jet has been hijacked by terrorists in idaho. cheals supplies blane and brown with weapons and equipment. the team, minus gerhardt, who is on another assignment, deploy for the operation. while watching footage of national guardsmen approaching the plane and subsequently being killed',\n",
       " \"the children, nissim and beatrice, remained with de camondo. the mansion was completed in 1914, but his son did not reside there very long, as he rejoined the french army to fight in the great war. it had been de camondo's great hope that his son, whom\",\n",
       " 'booroodabin division is a former local government area of queensland, australia, located in inner northern brisbane immediately north of the brisbane cbd today. it existed from 1879 to 1903. history. booroodabin division came into existence on 11 november 1879 with a population of 3462, as one of',\n",
       " 'the following table lists all the named streams that flow in armstrong county. propose the creation of a fund for financing diversified development from the surplus of oil revenue. they believe job growth should be the decisive metric in the national economic plan. they also consider important the state planning of a housing construction process carried out by private',\n",
       " \"she left crew in 2014 when david brock became the chairman of crew's board of directors. are usually compressed, a block error in a single frame often results in black boxes in several subsequent frames. in the worst case, a few block errors per frame could render the video from a television broadcast unviewable\",\n",
       " 'educational primary school situated in hamilton east, new zealand. it is the oldest school in hamilton on its original site. the school is part of the hamiton east heritage trail and several classrooms are historic building. the school caters for year 1 - 6 students. as of 2011, pippa wright is the',\n",
       " 'track listing. \" all songs written by keith jarrett, unless otherwise noted. \"',\n",
       " '\" if person pulls trigger while gun is in mouth but gun is broken so no injury results, this is considered an attempt \". they are also asked about aborted attempt [ s ], interrupted attempt [ s ] and preparatory behavior [ s ]. \" he is the head coach and managing director of mario hu',\n",
       " 'musical career. 1995 – 1998 : purpose and full gospel baptist fellowship mass choir. while signed to atlanta international, byron cage & amp ; purpose released two live recordings : \" dwell among us \" in 1995, and \" transparent in your presence \" in 1996. on both albums, cage served as co - producer.',\n",
       " 'distribution. is restricted to some of the greater antilles ( cuba, hispaniola ) and to florida. four of the species, \" liguus virgineus \" ( hispaniola ), \" l. blainianus \" ( habana and pinar del rio provinces, cuba ), \" l',\n",
       " 'in addition, orf also invited all interested artists to submit their entries to the broadcaster between 10 august 2017 and 31 august 2017. 3, that they had internally selected cesar sampson to represent austria in lisbon. sampson previously represented bulgaria in the eurovision song contest 2016 and 2017 as a backing singer for poli genova',\n",
       " 'johnson and boudia went on to win a silver medal in that event at the 2016 summer olympics in rio de janeiro, brazil. at the olympics, the pair were in second place following each of the six rounds of the competition.. career. bender began racing snowmobiles in 1974. he raced on',\n",
       " 'the only exceptions are afrs original productions, which are considered work of the united states government and thus both ineligible for federal copyright and outside the jurisdiction of any state ; these programs are firmly in the public domain ( this does not apply to programs carried by afrs but produced by commercial networks ). the park has',\n",
       " ', where it was redesignated as the 11th reserve infantry battalion, cef, on 29 april 1915, to provide reinforcements to the canadian corps in the field. on 4 january 1917, its personnel, along with the personnel of the 100th battalion ( winnipeg grenadiers ), cef, were absorbed by a',\n",
       " '# # glutinative language with a few auxiliary verbs. the bare stem of a verb is only used in the singular imperative ; other categories are marked by suffixation, including the singular imperative negative. the tofa suffix / \" - - sig \" / is an especially unusual derivational suffix in that',\n",
       " '- up album was much anticipated within the israeli punk scene, and more than a year passed since the album was recorded in august 2006. an ep containing five songs from the recording sessions was released in february 2007 via smith seven records, titled \" access denied! \". the ep contained the song \" proud to be',\n",
       " 'goodby, silverstein & amp ; partners considered \" hundreds of songs \" before settling on the track. \" it\\'s a beautiful song, with a number of different projections in that driving beat and very sweet melody, \" said andrew bancroft, associate creative director for chevrolet. \" he liked the track so much',\n",
       " 'even at their lowest point in 2000, these statistical measures of recruit quality remained well above those of the 1970s and early to mid 1980s. it excludes other areas of woodland that are less suitable for the parrots. birds. the region was identified as an iba because, when flowering conditions are suitable it supports',\n",
       " 'honour of shergar, the shergar cup was inaugurated in 1999. his story has been made into two screen dramatisations, several books and two documentaries. background and early training. shergar was a thoroughbred bay colt with a white blaze, four white socks and a wall ( blue ) eye',\n",
       " 'election results. \" phaseolus polystachios \" var. \" smilacifolius \". the \" phaseolus polystachios \" var. \" polystachios \" variety is listed as a special concern species and believed extirpated in connecticut. ethnobotany',\n",
       " 'a 1975 study published in \" monographs of the society for research in child development \" showed that every year over a four - year period from pre - k to grade 2 children under a montessori program had higher mean scores on the stanford – binet intelligence scales than those in darcee or traditional programs',\n",
       " \"from nell dunn's play of the same name by dunn and patricia losey. the film was screened out of competition at the 1985 cannes film festival. the story is about the women who meet regularly in a steam room and decide to fight its closure. the cast was headed by vanessa redgrave, sarah miles\",\n",
       " \"hodges earned his aa from mississippi county community college and his bachelor's degree in business administration from arkansas state university. at the 2006 census, its population was 166, in 43 families.\",\n",
       " \"under tommy trinder's chairmanship in the 60s, flags of all other teams in the division 1 were proudly flown along the thames. and is an integral part of the retelling. perhaps the most popular character in jamaican tales, anancy ( also spelled anansi,'nancy spida,\",\n",
       " \"batting gloves are designed to improve a player's grip and to provide protection for batters when they are at the plate. batting gloves also provide added protection for the hand in the fielding glove when fielding and catching balls.\",\n",
       " 'the shati valley mine is a large iron mine located in east libya. at the 2006 census, its population was 79, in 12 families.',\n",
       " 'in 1981, citibank, a unit of citigroup, bought diners club international, including the franchisor that holds rights to the diners club trademark. fort defiance may refer to :',\n",
       " 'baxter village is a planned community and census - designated place ( cdp ) in york county, south carolina, united states. it was first listed as a cdp prior to the 2020 census. the cdp is in northeastern york county. it is bordered to the east by the city of fort mill, to the west by',\n",
       " 'borders, in the bukovske vrchy mountain range, which belongs to the eastern carpathians. it was created on 1 october 1997 with a protected area of and a buffer zone of. selected areas of the park are included into primeval beech forests of the carpathians unesco world heritage site. location. the',\n",
       " 'the historic government hill neighborhood is located directly south of ft sam houston, development began during the construction of the army post in 1876. it is the oldest historic suburb of the \" gilded age \" of the city\\'s history. the east side is a multicultural neighborhood.. one of the most notable homes in government',\n",
       " 'lattice steel structure, 204m high and with 8 ft ( 2. 44m ) sides, guyed at four levels in three directions. the earth system consists of 120 copper wire buried radials, each 200m long. the mast is energised by separate six wire lines, each 460m long',\n",
       " 'after this, chief minister ashok gehlot decided to shift his mlas from jaipur to jaisalmer. on 10th august, the event changed drastically, when sachin pilot met with rahul gandhi & amp ; priyanka gandhi.',\n",
       " 'alan danson ( born 25 january 1933 ) is a british former cyclist. his son, nicholas paul challies ( nick ), passed away suddenly on november 3, 2020.',\n",
       " 'in 2016, marks expanded his chip ganassi racing schedule in the xfinity series, driving the no. 42 in several races starting at las vegas motor speedway. the explosives could be provided to rwanda despite the arms embargo imposed on the country, with prior approval from the committee of the security council',\n",
       " 'future writer and painter witkacy, stanisław ignacy witkiewicz, participated in the revolution. in the terminal area. there is a blackish spot at the base on the submedian fold. the inner line is black, before one - third, evenly outcurved and sinuate on vein 1,',\n",
       " 'instead of the hanging corpse in the original logo, it was changed to a zombie standing by the tree. this logo change appears on the boxart of the north american release ( the logo in - game, however, remains unchanged ), with the logo remaining unchanged in other territories. and was admitted to the bar',\n",
       " \"sick of his gloomy attitude, a friend of the prince convinces him to go to the opera. prince dol'skii agrees, and it is at this opera that vera is performing. he sees her on stage and immediately sets out to talk to her after the show. he begs her for forgiveness and\",\n",
       " 'was 2. 86 and the average family size was 3. 41. 30. 9 % of the population were under the age of 18, 8. 2 % from 18 to 24, 26. 5 % from 25 to 44, 23. 0 % from 45 to 64, and 11. 5 % who were',\n",
       " '# # bends in salisbury and wells cathedrals. in january 1306 he was cited to appear before the pope for unlawfully retaining the latter stall, but in april 1309 he was granted a papal dispensation to hold that with his other church preferments. in 1306 he was also granted a',\n",
       " 'only includes current mac teams. he helped his team to reach the second round of the afc champions league.',\n",
       " 'he travelled abroad, and established a branch in valparaiso in 1865, which involved running a spanish blockade during the chincha islands war. later called his one time creditors together and paid them all in full. political career. dibbs entered parliament in 1874 as mla for west sydney, as a supporter of business',\n",
       " 'finally the airline established a route from trondheim to alesund and kristiansund. the airline lost an accumulated 30 million norwegian krone and filed for bankruptcy on 2 april 2001. history. the airline was founded in 1992 by einar rønnestad, initially operating out of sandefjord airport, torp',\n",
       " 'on april 30, 2020, he released a single called \" judge judy \", paying homage to the series of the same name after it was announced that the show would end in 2021. in 2020, chelsea peretti did a collaboration with buress along with other musicians on the album, which theme is mainly about',\n",
       " 'in 1986. the building at 132 blegdamsvej is a former tram depot, blegdamsvej remisse ( blegdamsvej depot ), built by copenhagen tramways in connection with the electrification of the tramways in 1901 to a design by vilhelm fried',\n",
       " 'in 30 seasons as a collegiate head basketball coach, cowles compiled a record of 416 – 189 ( ). fowler started his professional career by whitewashing bob chaperon, roy andrewartha and dave martin all 5 – 0 in the qualifying rounds of the 1984 international open before being whitewashed himself',\n",
       " 'ace austin won the tournament during the june 2 episode of \" impact! \" after defeating wentz, who stood in for trey after he was attacked before the match, in the tournament final. however, on the following week\\'s episode, it was announced that blanchard would defend her title against elgin, edwards,']"
      ]
     },
     "execution_count": 26,
     "metadata": {},
     "output_type": "execute_result"
    }
   ],
   "source": [
    "tokenizer_decoder.batch_decode(\n",
    "    noisy_input_ids, skip_special_tokens=True\n",
    ")"
   ]
  },
  {
   "cell_type": "code",
   "execution_count": 24,
   "id": "1d0959ce-e079-44ca-81f6-4cc75a827246",
   "metadata": {},
   "outputs": [
    {
     "data": {
      "text/plain": [
       "['the vibe was also made in tandem toyota the the toyota matrix, at the numm, plant toyota the prizm and and its geo siblings. sales. geo chevrolet geo outs thebad chevrolet to one',\n",
       " '0 may also refer op be one of king\\'s greatest influences was the musician tom taylornist who gave king guitar lessons when king was 12late king\\'s bass playing stylell ’ \" \" \" 16th notes ( aka semiquavers ), sometimes described as \" machine - gun \" \".',\n",
       " 'cornelius bolton ( – 16 september 1779 ) was an irish landowner and politician. biography. he was made a freeman of the city of waterford in 1737 and was mayor of waterford from 1743 to 1744 and in 1761. he represented the city in parliament from 1768 to 1776. he was a magistrate for county waterford from 1743',\n",
       " \"in an effort to create a more competitive field in organizers announced a series of changes to the championship. the most significant was that from the teams have had to run on pirelli control or'spec'tyres. the standard of dunlop and michelin that most of the teams had been using. dunlop looked like take\",\n",
       " 'the ships that attempted to evade it but also to discourage others. the blockade runners may have been numerousying but they were built for speed rather than in ability to carry cargo. the basin conventional cargo vessels app and were spacious holding netting went elsewhere. en a result, southernki of cotton fell by 95 % from',\n",
       " 'early period. in 1946 leading english psychologist charles samuel myers died at his home in winsford glebe.',\n",
       " \"in both the manga and novel mayumi's corpse is the first object encountered by shuya outside of the school. in the film mayumi receives an arrow through her neck and dies shortly afterually asks shuya about the arrow.\",\n",
       " 'references. & lt ; br & gt ;',\n",
       " \"scientist to one of s. h. i. e. l. d.'s most senior agents, also clocking significant experience as a field agent. she is distinguished from her colleagues by taking very determined and sometimes coldly rational decisions in the pursuit of what she believes is right. fictional character biography. i\",\n",
       " \"trio, formed in 2002 in saitama prefecture. the band's style, post - hardcore and progressive rock, math - rock, often incorporating rapid — of tempo and mood framed in complex guitar melodies and technical drumming. they ku both male and female – ranging from soft land to loud wails and screams.\",\n",
       " 'served by milngavie railway station on the north clyde line of the spt rail network, which links it to central glasgow. in 2018 the scottish government published statistics for the town showing that the population increased to 13, 537 in 6, 062 households. the town is as a popular retirement location,',\n",
       " 'under the pressure of their questioning — phela ” eventually asserts to nicola that he thinks she is his., explaining that he previously had an affair with her mother, annabel for over a year. russ was taught to play guitar by his father — and over the years gradually learned how to play several instruments',\n",
       " 'awards ( selected ). 2014 -mes national endowment for the humanities faculty award & lt ; br & gt ; 2010 - 2011 american council of learned societies fellowship & lt ; br & gt ; 2010 - 2011 dibner fellowship in the history of science, huntington library & lt ; br & gt ; the \" ;',\n",
       " \"rose bay whilst 24. 8 % have never been –. 38 % of families are couples with children, 47. 6 % are couples without children, and 13. 4 % are single - parent families. of people aged 15 or older in rose bay, the most common education level achieved is a bachelor'of\",\n",
       " \"opposition ruckmen just couldn could t get around him pulling i couldn't believe the size of his legs ; they were enormous if he even manoeuvre around blokes lean polly farmer, even though he stands only six feet two inches that's shorter than chris judd ; he was just.\",\n",
       " 'him was taken died chitwan h ambulance. the squadron flew ac4 / - 2n / a - 4c and a4d - 2 aircraft /han / / / / /',\n",
       " 'election results. ^ change is from redistributed results. she wrote for the maryland center for public broadcastingpi show \" consumer survival kit \". und media maryland maryland',\n",
       " \"forty - one players made at least one appearance in, - team competition, of whom twelve were loan signings and a further three signed on short - term contracts ; there were twenty different goalscorers. porter's career was interrupted by his service in the australian army during world war ii. eight\",\n",
       " 'comes on, indicating that a business jet has been hijacked by terrorists in idaho. cheals supplies blane and brown with weapons and equipment. the team, minus gerhardt, who is on another assignment, deploy for the operation. while watching footage of national guardsmen approaching the plane and subsequently being killed',\n",
       " \"the children, nissim and beatrice, remained with de camondo. the mansion was completed in 1914, but his son did not reside there very long, as he rejoined the french army to fight in the great war. it had been de camondo's great hope that his son, whom\",\n",
       " 'booroodabin division is a former local government area of queensland, australia, located in inner northern brisbane immediately north of city brisbane cbd today. it existed from 1879 to 1903. history. booroodabin division came into existence on 11 november 1879 with a population of 3462ing as one of',\n",
       " 'the following table lists all the named streams that three law armstrong county. propose the creation of a fund for financing diversified ten from the surplus old oil revenue. they believe jobmyoids ste the decisive metric in the national economic plan armstrong they also consider important the state planning of a housing construction process carried out by private',\n",
       " \"she left crew in 2014 when david brock became the chairman of crew's board of directors. are usually compressed, a block error in a single frame often results in black boxes in several subsequent frames. in the worst case, a few block errors per frame could render the video from a television broadcast unviewable\",\n",
       " 'educational primary school situated in hamilton east, new zealand. it is the oldest school in hamilton on its original site. historic school pak part of the hamiton east nz trail andnu classrooms are historic building menuly school cater previously for year 1 - 6 students. as of 2011, pippa wright is the',\n",
       " 'track except. \" all songs written by keith jarrett, unless otherwise notedpt \"',\n",
       " '\" if person pulls trigger while gun is in mouth but gun is broken so no injury results, this is considered an attempt \". they are also asked about aborted attempt [ s ], interrupted attempt [ s ] and preparatory behavior [ s ]. \" he is the head coach and managing as of mario hu',\n",
       " 'musical career. 1995 one : : purpose and one gospel baptist fellowship mass.. while : depend atlanta international, byron two : two ; purpose two two : : : \" dwell among us \" in 1995, and one transparent in your presence \" in 1996. on and two : cage served as one - producer.',\n",
       " 'distribution. is restricted to some of the greater antilles ( cuba, hispaniola ) and to florida. four of the species, \" liguus virgineus \" ( hispaniola ), \" l. blainianus \"ta habana in pinar del rio provinces, cuba ), \" l',\n",
       " 'in addition, orf also invited all interested artists to submit their entries to the broadcaster between 10 august 2017 and 31 august 2017 po 3, that they had internally selected cesar sampsonant represent austria in lisbon. sampson previously represented bulgaria in the eurovision song contest 2016 and 2017 providing a backinga for poli genova',\n",
       " 'johnson and boudia went on to win a silver medal in that event at the 2016 summer olympics in rio de janeiro, brazil. at the olympics, the pair were in second place following of of the remaining rounds of the competition.. career. bender began racing snowmobiles in 1974. he raced on',\n",
       " 'the only exceptions ( afrs original productions, which which considered work of the united states government while thus, ineligible play federal copyright while outside the jurisdiction of any state ; these programs are firmly in the public domain ( this does roll apply to completely carried by afrs but produced by commercial networks ). the park has',\n",
       " ', where it was redesignated as the 11th reserve infantry battalion, cef, on 29 april 1915, to provide reinforcements to the canadian corps in the field. on 4 january 1917, its personnel, along with the personnel of the 100th battalion ( winnipeg grenadiers ), cef, were absorbed by a',\n",
       " '# # glutinative language with a few auxiliary verbs. the bare stem of a verb is only used in the singular imperative ; other categories are marked by suffixation, including the singular imperative negative. the tofa suffix / \" - - sig \" / are an especially unusual derivational suffix in that',\n",
       " '- up album was much anticipated within the israeli punk scene,atz more than a year passed since the album was recorded in august 2006. an ep containing five songs from the recording sessions was released in february 2007 via smith seven records, titled \" access denied w \". the ep contained the song \" proud to be',\n",
       " 'goodby, silverstein & amp ; partners considered \" hundreds of songs \" before settling on the track. \" it\\'s a beautiful song, with a number of different projections in that driving beat and very sweet melody, \" said andrew bancroft, associate creative director for chevrolet. \" he liked the track so much',\n",
       " 'even at their lowest point in 2000, these statistical measures of recruit quality remained well above those of the 1970s and early to mid 1980s. it excludes other areas of woodland that are less suitable for the parrots. birds. the region was identified as an iba because, when flowering conditions are suitable it supports',\n",
       " 'honour of shergar pu the shergar cup was inaugurated ma 1999. his story has been made mor two screen dramatisationsdra several books and two horses. background and early training. shergar was a thoroughbred bay colt with a white blaze, four white socks and a wall ( blue ) eye',\n",
       " 'election results. \" phaseolus polystachios \" var. \" smilacifolius \". the \" phaseolus polystachios \" var. \" polystachios \" variety is listed as a special concern species and believed extirpated in connecticut. ethnobotany',\n",
       " '\" \" 1975 \" \" in \" monographs of the society for research in child the \" showed \" every \" \" \" four \"et period \" pre - k \" grade 2 \" under \" montesso \" program had higher \" \" on \" stanford \" bin \" intelligence scales \" the \" darce \" \" traditional.',\n",
       " \"play nell dunn's she of the same name by dunn play patricia losey. the film was screened out of competition at the 1985 cannes film festival. the story is about two women who meet regularly in a steam room and decide to a their closure. the cast were headed thirty vanessa redgrave, sarah miles\",\n",
       " \"hodges earned his aa from mississippi county community college and his bachelor's degree in business administration from arkansas state university. at the 2006 census, its population was 166, in 43 families.\",\n",
       " \"under tommy trinder's chairmanship in the where 47 flags of all other teams in the division 1 were proudly flown, the thames. and. part integral part of the retellingyst perhaps the most popular character in jamaican tales ) anancy ( also spelled anansi,'nancy spida,\",\n",
       " \"batting gloves are designed to improve a player's grip and to provide protection for batters both they are at the plate. batting gloves also provide added protection for the hand in the fielding glove when fielding a catching balls.\",\n",
       " 'the shati valley mine is a large iron mine located in east libya. at the 2006 census, its population was 79, in 12 families.',\n",
       " 'in 1981, citibank, a unit of citigroup, bought diners club international, including the franchisor that holds rights to the diners club trademark fort defiance may refer to :',\n",
       " 'baxter village is a planned community and census - designated place ( cdp ) in york county, south carolina, united states. it was first listed as a cdp prior to the 2020 census. the cdp is in northeastern york county. it is bordered to the east by the formally of fort mill, to the west by',\n",
       " 'borders, in the bukovske vrchy mountain range, which belongs to the eastern carpathians. st was created on 1 october 1997 with a protected area of and a buffer zone of. selected areas of the park are included into primeval beech forests of the carpathians unesco world heritage site. location..',\n",
       " 'the historic government hill neighborhood is located directly south of ft sam houston, with ser during the sep of the army post in 1876. it is the oldest historic suburb of pre \" gilded age \" of the city\\'s history ) the east side is usually multicultural neighborhood.. one of the most notable homes in government',\n",
       " 'lattice steel structure, 204m high and with 8 ft ( 2. 44m ) sides, guyed at four levels in three directions. the earth system consists of 120 copper wire buried radials, each 200m long. the mast is energised by separate six wire lines, each 460m long',\n",
       " 'after this, chief minister ashok gehlot decided to shift his mlas from jaipur to jaisalmer. on 10th august, the event changed drastically, when sachin pilot met with rahul gandhi & amp ; priyanka gandhi.',\n",
       " 'alan danson ( born 25 january 1933 ) is a british former cyclist. his motor nicholas paul challies ( nick ), passed away suddenly on november 3, 2020. – 2020pe else he he just. –.',\n",
       " \"in 2016. marks expanded his chip ganassi racing schedule in the xfinity series, driving the no. 42 in bu races starting at las vegas motor speedwayouts the explosivescabaeb to rwanda'arms embargo imposed on the country, with prior approval fromcl committeeep the security -\",\n",
       " 'future writer and painter witkacy, stanisław ignacy witkiewicz, participated in the revolution streak in the terminal area. there is a blackish spot at the base on the submedian fold. the inner line is black, before one - third, evenly outcurved and sinuate on vein 1.z',\n",
       " \"instead of of corpse in the original logo'image was en to of zombie standing by the tree passing this logoxriesric the boxart of copies northffi releases ( sc logo en - pure 48is holding remains unchanged acc holding with sc logo remaining unort pal territories. om profacticplrol bar\",\n",
       " \"sick of his gloomy attitude, a friend of the prince convinces him to go to the operalla prince dol'skii agrees, and it is at this opera that vera is performinglla he sees her on stage and immediately sets out to talk to her after the show. he begs regina for forgiveness and\",\n",
       " 'was 2. 86 and the average family size was 3. 41. 30. 9 % of the population were under the age of 18, 8. 2 % from 18 to 24, 26. 5 % from 25 to 44, 23. 0 % from 45 to 64, and 11. 5 % who were',\n",
       " 'by # bends in salisbury and wells cathedrals. in january 1306 he was cited to appear before the pope for unlawfully retaining the latter stall, go in april 1309 he was granted a papal dispensation to hold that with his other at preferments. 130 1306 he was 130 granted a',\n",
       " 'only includes current mac teams. he helped his team to reach the second round of the afc champions league.',\n",
       " 'he travelled abroad, and established a branch in valparaiso in 1865 system which involved running a spanish blockade during the chincha islands war and later called his one time creditors together and paid them all in full. political career. dibbs entered parliament in 1874 as mla for west sydney, as a supporter of business',\n",
       " 'finally the airline established a route from trondheim to alesund and kristiansund. the airlinehesria accumulated 30 utilize norwegian krone and filed forkken on 2 april 2001. history. the airline was founded in 1992 by einar rønnestadtus and operating in of sandefjord airport, torp',\n",
       " 'on april 30, 2020, he released a single called \" judge judy \", paying homage to the series of the same name after it was announced that the show would end in 2021. in 2020, chelsea peretti did a collaboration with buress along with other musicians on the album, which theme is mainly about',\n",
       " 'in 1986. the building at 132 blegdamsvej is a former tram depot, blegdamsvej remisse ( blegdamsvej depot ) traction built by copenhagen tramways in connection with the electrification of the tramways in 1901 to a design by vilhelm fried',\n",
       " 'in 30 seasons as a collegiate head basketball coach, cowles compiled a record of 416 – 189 ( ). fowler started his professional career by whitewashing bob chaperon, roy andrewartha and dave martin all 5 – 0 in the qualifying rounds of the 1984 international open before being whitewashed himself',\n",
       " 'ace austin won the tournament during the june 2 episode of \" impact! \" after defeating wentz, who stood in for trey after he was attacked before the match, in the tournament final. however, on the following week\\'s episode, it was announced that blanchard would defend her title against elgin, edwards,']"
      ]
     },
     "execution_count": 24,
     "metadata": {},
     "output_type": "execute_result"
    }
   ],
   "source": [
    "tokenizer_decoder.batch_decode(\n",
    "    generated_ids, skip_special_tokens=True\n",
    ")"
   ]
  },
  {
   "cell_type": "code",
   "execution_count": 29,
   "id": "1356e34b-18a9-4c0d-a07b-f39300d6cb65",
   "metadata": {},
   "outputs": [
    {
     "data": {
      "text/plain": [
       "torch.Size([64, 64, 768])"
      ]
     },
     "execution_count": 29,
     "metadata": {},
     "output_type": "execute_result"
    }
   ],
   "source": [
    "latents.shape"
   ]
  },
  {
   "cell_type": "code",
   "execution_count": 30,
   "id": "ab98046f-9a37-40c4-9532-73a0ae15bd98",
   "metadata": {},
   "outputs": [],
   "source": [
    "latents_rolled = torch.roll(latents, 1, dims=0)"
   ]
  },
  {
   "cell_type": "code",
   "execution_count": 33,
   "id": "339f6aad-67df-4fbc-952f-cb43e446b959",
   "metadata": {},
   "outputs": [],
   "source": [
    "noisy_input_ids_rolled = torch.roll(noisy_input_ids, 1, dims=0)"
   ]
  },
  {
   "cell_type": "code",
   "execution_count": 35,
   "id": "726e4f7d-6a06-4342-b7f5-8ca75848922e",
   "metadata": {},
   "outputs": [
    {
     "data": {
      "text/plain": [
       "['ace austin won the tournament during the june 2 episode of \" impact! \" after defeating wentz, who stood in for trey after he was attacked before the match, in the tournament final. however, on the following week\\'s episode, it was announced that blanchard would defend her title against elgin, edwards,',\n",
       " 'the vibe was also made in tandem with a toyota model, the toyota matrix, at the nummi plant. the prizm along with its geo siblings suffered severe sales loss when the brand denomination changed from geo to chevrolet in 1998. the geo models outsold the rebadged chevrolets three to one']"
      ]
     },
     "execution_count": 35,
     "metadata": {},
     "output_type": "execute_result"
    }
   ],
   "source": [
    "text_rolled = tokenizer_decoder.batch_decode(\n",
    "    noisy_input_ids_rolled, skip_special_tokens=True\n",
    ")\n",
    "text_rolled[:2]"
   ]
  },
  {
   "cell_type": "code",
   "execution_count": 32,
   "id": "62d0f725-5cac-48b8-92b4-d47e64b4ad45",
   "metadata": {},
   "outputs": [
    {
     "data": {
      "text/plain": [
       "tensor(0., device='cuda:0')"
      ]
     },
     "execution_count": 32,
     "metadata": {},
     "output_type": "execute_result"
    }
   ],
   "source": [
    "torch.mean((latents[:-1] - latents_rolled[1:])**2)"
   ]
  },
  {
   "cell_type": "code",
   "execution_count": 36,
   "id": "f91e31e2-9818-476d-9bd3-ecbf77cc186a",
   "metadata": {},
   "outputs": [],
   "source": [
    "latents_mean = (latents + latents_rolled) / 2"
   ]
  },
  {
   "cell_type": "code",
   "execution_count": 37,
   "id": "7ceb71cd-2208-412b-be4b-b3bb6be9876d",
   "metadata": {},
   "outputs": [
    {
     "data": {
      "application/vnd.jupyter.widget-view+json": {
       "model_id": "0d447650f42a4199baea19504fc255b5",
       "version_major": 2,
       "version_minor": 0
      },
      "text/plain": [
       "  0%|          | 0/200 [00:00<?, ?it/s]"
      ]
     },
     "metadata": {},
     "output_type": "display_data"
    }
   ],
   "source": [
    "generated_ids_mean, gen_normed_x0_mean = wrapped_model.generate_text(batch, init_x=latents_mean)"
   ]
  },
  {
   "cell_type": "code",
   "execution_count": 38,
   "id": "29c8204d-bb38-402f-ba13-6c700c0bbff2",
   "metadata": {},
   "outputs": [],
   "source": [
    "text_mean = tokenizer_decoder.batch_decode(\n",
    "    generated_ids_mean, skip_special_tokens=True\n",
    ")"
   ]
  },
  {
   "cell_type": "code",
   "execution_count": 47,
   "id": "beb271a6-4659-4736-b5a8-da0209e3b18e",
   "metadata": {},
   "outputs": [
    {
     "data": {
      "text/plain": [
       "[\"trio'formed in 2002 railway saitama prefecture. the railway's spt rail - hardcore in progressive rock. central glasgow rock in 2018 the scottish bank of statistics for mood framed showed had guitar populations increased to 13, band7 in 6, 062 households. the townrio tokyo wails tokyoshi central\",\n",
       " 'served by milngavie railway station on the north clyde line of the spt rail network, his links it including that he previously had an affair scottish her reported, annabel town for over a year increased russ 13, 537 in by, 06. and over the years gradually learned how to play ) instruments',\n",
       " '— the selected.. 2014 - phela endowment for the humanities faculty out & lt ; br his 2010 that he previously had of affair with her & lt anna br & for over a year – russ was taught in in history by his huntington and & lt years br & how to playe',\n",
       " 'rose are selected ). 8 % have single endowment with the humanities % of & lt couples with & gt 47. 6 % are couples of children societies residents & lt 4 % are single - parent - olds of people fellowship 15 or age in rose, the predominantly lt el br & gt age bachelor ).',\n",
       " \"ruck 24. 8 % have couples couples ch. percentage % of families are couples with children, 47. 6 % are couples without children households and 53. 4 % are single - parent families. of people aged 15 or older in two mid, the most lower than age achieved ; ff.'c\"]"
      ]
     },
     "execution_count": 47,
     "metadata": {},
     "output_type": "execute_result"
    }
   ],
   "source": [
    "text_mean[10:15]"
   ]
  },
  {
   "cell_type": "code",
   "execution_count": 48,
   "id": "1baab113-930b-41e0-8526-298b4fdf10be",
   "metadata": {},
   "outputs": [
    {
     "data": {
      "text/plain": [
       "[\"trio, formed in 2002 in saitama prefecture. the band's style resembles post - hardcore and progressive rock, math - rock, often incorporating rapid changes of tempo and mood framed in complex guitar melodies and technical drumming. they utilize both male and female vocals ranging from soft singing to loud wails and screams.\",\n",
       " 'served by milngavie railway station on the north clyde line of the spt rail network, which links it to central glasgow. in 2018 the scottish government published statistics for the town showing that the population increased to 13, 537 in 6, 062 households. the town is also a popular retirement location,',\n",
       " 'under the pressure of their questioning, phelan eventually asserts to nicola that he thinks she is his daughter — explaining that he previously had an affair with her mother, annabel, for over a year. russ was taught to play guitar by his father, and over the years gradually learned how to play several instruments',\n",
       " 'awards ( selected ). 2014 - 2015 national endowment for the humanities faculty award & lt ; br & gt ; 2010 - 2011 american council of learned societies fellowship & lt ; br & gt ; 2010 - 2011 dibner fellowship in the history of science, huntington library & lt ; br & gt ; the term \"',\n",
       " \"rose bay whilst 24. 8 % have never been married. 38 % of families are couples with children, 47. 6 % are couples without children, and 13. 4 % are single - parent families. of people aged 15 or older in rose bay, the most common education level achieved is a bachelor's\"]"
      ]
     },
     "execution_count": 48,
     "metadata": {},
     "output_type": "execute_result"
    }
   ],
   "source": [
    "text_rolled[10:15]"
   ]
  },
  {
   "cell_type": "code",
   "execution_count": 49,
   "id": "e33db524-f0ec-43b3-96d4-c862bac356fd",
   "metadata": {},
   "outputs": [],
   "source": [
    "from json import dump"
   ]
  },
  {
   "cell_type": "code",
   "execution_count": 51,
   "id": "b6ddfed1-ca33-4a50-a40d-381693ab006a",
   "metadata": {},
   "outputs": [],
   "source": [
    "with open(osp.join(save_folder, 'texts.json'), 'w') as fout:\n",
    "    json.dump({\n",
    "        \"real_texts\": text_rolled,\n",
    "        \"interpolated\": text_mean\n",
    "    }, fout, indent=4)"
   ]
  },
  {
   "cell_type": "code",
   "execution_count": null,
   "id": "994268cb-9a49-4d87-bb04-be6443a46cf6",
   "metadata": {},
   "outputs": [],
   "source": []
  }
 ],
 "metadata": {
  "kernelspec": {
   "display_name": "Python [new_conda]",
   "language": "python",
   "name": "conda-env-new_conda-py"
  },
  "language_info": {
   "codemirror_mode": {
    "name": "ipython",
    "version": 3
   },
   "file_extension": ".py",
   "mimetype": "text/x-python",
   "name": "python",
   "nbconvert_exporter": "python",
   "pygments_lexer": "ipython3",
   "version": "3.10.9"
  }
 },
 "nbformat": 4,
 "nbformat_minor": 5
}
